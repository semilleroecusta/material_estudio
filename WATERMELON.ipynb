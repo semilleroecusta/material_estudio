{
 "cells": [
  {
   "cell_type": "code",
   "execution_count": 1,
   "metadata": {},
   "outputs": [
    {
     "name": "stdout",
     "output_type": "stream",
     "text": [
      " peso 23\n",
      "11.5\n",
      "NO\n"
     ]
    }
   ],
   "source": [
    "try:\n",
    "    pesosandia=int(input(' peso '))\n",
    "    if pesosandia>=1 and pesosandia<=100:\n",
    "        if pesosandia==2:\n",
    "            print('NO')\n",
    "        elif pesosandia%2==0:\n",
    "            print (pesosandia/2) \n",
    "            print('SI')\n",
    "        else:\n",
    "            print (pesosandia/2) \n",
    "            print('NO')\n",
    "    else:\n",
    "        print('el peso no esta en los limites')\n",
    "except ValueError:\n",
    "    print('el dato ingresado debe ser un numero entero')"
   ]
  },
  {
   "cell_type": "code",
   "execution_count": null,
   "metadata": {},
   "outputs": [],
   "source": []
  }
 ],
 "metadata": {
  "kernelspec": {
   "display_name": "Python 3",
   "language": "python",
   "name": "python3"
  },
  "language_info": {
   "codemirror_mode": {
    "name": "ipython",
    "version": 3
   },
   "file_extension": ".py",
   "mimetype": "text/x-python",
   "name": "python",
   "nbconvert_exporter": "python",
   "pygments_lexer": "ipython3",
   "version": "3.8.3"
  }
 },
 "nbformat": 4,
 "nbformat_minor": 4
}
